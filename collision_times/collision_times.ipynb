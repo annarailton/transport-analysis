{
 "cells": [
  {
   "cell_type": "markdown",
   "metadata": {},
   "source": [
    "# Collision times for cyclists and pedestrians in key locations in Oxford \n",
    "\n",
    "This work is to help inform discussions about the operational times of any new bus gates installed in the city via COTS. \n",
    "\n",
    "It uses the following data sources:\n",
    "\n",
    "- Road traffic collision data from https://bikedata.cyclestreets.net (which reformatted version of [UK road safety data](https://www.data.gov.uk/dataset/cb7ae6f0-4be6-4935-9277-47e5ce24a11f/road-safety-data))\n",
    "- (maybe) some baseline cyclists and pedestrian numbers from data scraped from https://oxbike.co.uk/ "
   ]
  },
  {
   "cell_type": "markdown",
   "metadata": {},
   "source": [
    "## TODO\n",
    "\n",
    "- Select locations to analyse, given potential COTS bus gate locations\n",
    "- Get datasets from these locations\n",
    "- Pull out time of day information\n",
    "- Graph this information\n",
    "- Potentially normalise with baseline data from oxbike.co.uk"
   ]
  },
  {
   "cell_type": "markdown",
   "metadata": {},
   "source": [
    "## Locations to analyse\n",
    "\n",
    "### Potential bus gate locations\n",
    "\n",
    "- Hythe Bridge Street\n",
    "- St Clements\n",
    "- St Cross Street\n",
    "- Hollow Way \n",
    "- Marston Ferry Road\n",
    "\n",
    "### Roads / junctions to analyse \n",
    "\n",
    "- The Plain (`01_the_plain.csv`)\n",
    "- High Street, Longwall junction and down to Plain (not including the Plain) (`02_high_street.csv`)\n",
    "- St Clement's / Headington Road, up to Headley Way (including that junction) (`03_st_clements.csv`)\n",
    "- Cowley Road, upto the Church Cowley Road (including that junction) (`04_cowley_road.csv`)\n",
    "- Iffley Road, upto junction with Church Cowley Road (including that junction) (`05_iffley_road.csv`)\n",
    "- Hollow Way (`06_hollow_way.csv`)\n",
    "- Marston Ferry Road/Cherwell Drive (`07_marston_ferry_road.csv`)\n",
    "- A4144 from station to St Giles Road (`08_a4144.csv`)\n",
    "\n",
    "### Lower priority locations to analyse\n",
    "\n",
    "- London Road (upto but not including the junction with Headley Way)\n",
    "- Iffley Road south of Church Cowley Road (upto but not including the junction with Church Cowley Road)\n",
    "- Church Cowley Road \n",
    "- Morrell Avenue/Warneford Lane/Old Road (upto the junction with the Slade)\n",
    "- The Slade \n",
    "- Windmill Road "
   ]
  },
  {
   "cell_type": "markdown",
   "metadata": {},
   "source": [
    "### Getting data from https://bikedata.cyclestreets.net\n",
    "\n",
    "There is a dragging tool for extracting data from the map. \n",
    "\n",
    "- Drag around each road / junction (make a judgement call RE boundaries as sometimes the lat/longs are a bit off so you have to *e.g.* go wider round the road at points)\n",
    "- Select the widest possible date range (1999-2020) and export as spreadsheet. \n",
    "- Note there is a limit of 400 data points per export one has to extract in chunks by batching up by date. \n",
    "- Difficult to tease apart *e.g.* what is \"Iffley Road\" and what is \"The Plain\", made a judgement call by looking at the map. \n"
   ]
  }
 ],
 "metadata": {
  "language_info": {
   "name": "python"
  },
  "orig_nbformat": 4
 },
 "nbformat": 4,
 "nbformat_minor": 2
}
