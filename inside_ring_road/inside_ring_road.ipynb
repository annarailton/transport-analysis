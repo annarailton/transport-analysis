{
 "cells": [
  {
   "cell_type": "markdown",
   "metadata": {},
   "source": [
    "# Stats from inside the Oxford Ring Road\n",
    "\n",
    "A coarse look at all the STATS19 data inside the Oxford Ring Road, 1999-2000. \n",
    "\n",
    "Data from https://bikedata.cyclestreets.net/ and can be found in `data/inside_ring_road`. It had to be downloaded one year at a time due to the 400 data point limit.\n",
    "\n",
    "<div>\n",
    "<img src=\"../data/inside_ring_road/Screenshot%202022-08-06%20at%2020.41.31.png\" width=\"500\"/>\n",
    "</div>"
   ]
  },
  {
   "cell_type": "code",
   "execution_count": null,
   "metadata": {},
   "outputs": [
    {
     "name": "stdout",
     "output_type": "stream",
     "text": [
      "Collecting tabulate\n",
      "  Using cached tabulate-0.8.10-py3-none-any.whl (29 kB)\n",
      "Installing collected packages: tabulate\n",
      "Successfully installed tabulate-0.8.10\n",
      "\n",
      "\u001b[1m[\u001b[0m\u001b[34;49mnotice\u001b[0m\u001b[1;39;49m]\u001b[0m\u001b[39;49m A new release of pip available: \u001b[0m\u001b[31;49m22.1.2\u001b[0m\u001b[39;49m -> \u001b[0m\u001b[32;49m22.2.2\u001b[0m\n",
      "\u001b[1m[\u001b[0m\u001b[34;49mnotice\u001b[0m\u001b[1;39;49m]\u001b[0m\u001b[39;49m To update, run: \u001b[0m\u001b[32;49mpip install --upgrade pip\u001b[0m\n",
      "Note: you may need to restart the kernel to use updated packages.\n"
     ]
    }
   ],
   "source": [
    "%pip install tabulate"
   ]
  },
  {
   "cell_type": "code",
   "execution_count": 1,
   "metadata": {},
   "outputs": [],
   "source": [
    "import datetime \n",
    "import pathlib\n",
    "\n",
    "import pandas as pd \n",
    "import numpy as np \n",
    "import matplotlib.pyplot as plt\n",
    "import matplotlib.dates as mdates"
   ]
  },
  {
   "cell_type": "code",
   "execution_count": 2,
   "metadata": {},
   "outputs": [],
   "source": [
    "data_dir = pathlib.Path.cwd().parent.joinpath(\"data/inside_ring_road\")"
   ]
  },
  {
   "cell_type": "code",
   "execution_count": 5,
   "metadata": {},
   "outputs": [],
   "source": [
    "# Read in each of the .csv files into a pandas dataframe and concatenate into a single dataframe\n",
    "df = pd.concat([pd.read_csv(f) for f in data_dir.glob(\"*.csv\")], ignore_index=True)\n"
   ]
  },
  {
   "cell_type": "code",
   "execution_count": 6,
   "metadata": {},
   "outputs": [
    {
     "data": {
      "text/html": [
       "<div>\n",
       "<style scoped>\n",
       "    .dataframe tbody tr th:only-of-type {\n",
       "        vertical-align: middle;\n",
       "    }\n",
       "\n",
       "    .dataframe tbody tr th {\n",
       "        vertical-align: top;\n",
       "    }\n",
       "\n",
       "    .dataframe thead th {\n",
       "        text-align: right;\n",
       "    }\n",
       "</style>\n",
       "<table border=\"1\" class=\"dataframe\">\n",
       "  <thead>\n",
       "    <tr style=\"text-align: right;\">\n",
       "      <th></th>\n",
       "      <th>Accident Index</th>\n",
       "      <th>Timestamp</th>\n",
       "      <th>severity</th>\n",
       "      <th>Casualties</th>\n",
       "      <th>Number of Casualties</th>\n",
       "      <th>Number of Vehicles</th>\n",
       "      <th>url</th>\n",
       "      <th>apiUrl</th>\n",
       "      <th>Latitude</th>\n",
       "      <th>Longitude</th>\n",
       "    </tr>\n",
       "  </thead>\n",
       "  <tbody>\n",
       "    <tr>\n",
       "      <th>0</th>\n",
       "      <td>200143P067101</td>\n",
       "      <td>11:40am, 5th October 2001</td>\n",
       "      <td>fatal</td>\n",
       "      <td>Pedestrian</td>\n",
       "      <td>1</td>\n",
       "      <td>1</td>\n",
       "      <td>https://www.cyclestreets.net/collisions/report...</td>\n",
       "      <td>https://api.cyclestreets.net/v2/collisions.loc...</td>\n",
       "      <td>51.759808</td>\n",
       "      <td>-1.212196</td>\n",
       "    </tr>\n",
       "    <tr>\n",
       "      <th>1</th>\n",
       "      <td>200143P296091</td>\n",
       "      <td>2:47am, 27th September 2001</td>\n",
       "      <td>fatal</td>\n",
       "      <td>Pedestrian</td>\n",
       "      <td>1</td>\n",
       "      <td>1</td>\n",
       "      <td>https://www.cyclestreets.net/collisions/report...</td>\n",
       "      <td>https://api.cyclestreets.net/v2/collisions.loc...</td>\n",
       "      <td>51.745090</td>\n",
       "      <td>-1.229978</td>\n",
       "    </tr>\n",
       "    <tr>\n",
       "      <th>2</th>\n",
       "      <td>200143P069111</td>\n",
       "      <td>5:24pm, 6th November 2001</td>\n",
       "      <td>serious</td>\n",
       "      <td>Pedestrian</td>\n",
       "      <td>1</td>\n",
       "      <td>1</td>\n",
       "      <td>https://www.cyclestreets.net/collisions/report...</td>\n",
       "      <td>https://api.cyclestreets.net/v2/collisions.loc...</td>\n",
       "      <td>51.744275</td>\n",
       "      <td>-1.229123</td>\n",
       "    </tr>\n",
       "    <tr>\n",
       "      <th>3</th>\n",
       "      <td>200143P130041</td>\n",
       "      <td>10:50am, 10th April 2001</td>\n",
       "      <td>serious</td>\n",
       "      <td>Cyclist</td>\n",
       "      <td>1</td>\n",
       "      <td>2</td>\n",
       "      <td>https://www.cyclestreets.net/collisions/report...</td>\n",
       "      <td>https://api.cyclestreets.net/v2/collisions.loc...</td>\n",
       "      <td>51.750375</td>\n",
       "      <td>-1.240753</td>\n",
       "    </tr>\n",
       "    <tr>\n",
       "      <th>4</th>\n",
       "      <td>200143P143011</td>\n",
       "      <td>5:15pm, 12th January 2001</td>\n",
       "      <td>serious</td>\n",
       "      <td>Pedestrian</td>\n",
       "      <td>1</td>\n",
       "      <td>1</td>\n",
       "      <td>https://www.cyclestreets.net/collisions/report...</td>\n",
       "      <td>https://api.cyclestreets.net/v2/collisions.loc...</td>\n",
       "      <td>51.767750</td>\n",
       "      <td>-1.230172</td>\n",
       "    </tr>\n",
       "  </tbody>\n",
       "</table>\n",
       "</div>"
      ],
      "text/plain": [
       "  Accident Index                    Timestamp severity  Casualties  \\\n",
       "0  200143P067101    11:40am, 5th October 2001    fatal  Pedestrian   \n",
       "1  200143P296091  2:47am, 27th September 2001    fatal  Pedestrian   \n",
       "2  200143P069111    5:24pm, 6th November 2001  serious  Pedestrian   \n",
       "3  200143P130041     10:50am, 10th April 2001  serious     Cyclist   \n",
       "4  200143P143011    5:15pm, 12th January 2001  serious  Pedestrian   \n",
       "\n",
       "   Number of Casualties  Number of Vehicles  \\\n",
       "0                     1                   1   \n",
       "1                     1                   1   \n",
       "2                     1                   1   \n",
       "3                     1                   2   \n",
       "4                     1                   1   \n",
       "\n",
       "                                                 url  \\\n",
       "0  https://www.cyclestreets.net/collisions/report...   \n",
       "1  https://www.cyclestreets.net/collisions/report...   \n",
       "2  https://www.cyclestreets.net/collisions/report...   \n",
       "3  https://www.cyclestreets.net/collisions/report...   \n",
       "4  https://www.cyclestreets.net/collisions/report...   \n",
       "\n",
       "                                              apiUrl   Latitude  Longitude  \n",
       "0  https://api.cyclestreets.net/v2/collisions.loc...  51.759808  -1.212196  \n",
       "1  https://api.cyclestreets.net/v2/collisions.loc...  51.745090  -1.229978  \n",
       "2  https://api.cyclestreets.net/v2/collisions.loc...  51.744275  -1.229123  \n",
       "3  https://api.cyclestreets.net/v2/collisions.loc...  51.750375  -1.240753  \n",
       "4  https://api.cyclestreets.net/v2/collisions.loc...  51.767750  -1.230172  "
      ]
     },
     "execution_count": 6,
     "metadata": {},
     "output_type": "execute_result"
    }
   ],
   "source": [
    "df.head()"
   ]
  },
  {
   "cell_type": "code",
   "execution_count": 15,
   "metadata": {},
   "outputs": [
    {
     "data": {
      "text/html": [
       "<div>\n",
       "<style scoped>\n",
       "    .dataframe tbody tr th:only-of-type {\n",
       "        vertical-align: middle;\n",
       "    }\n",
       "\n",
       "    .dataframe tbody tr th {\n",
       "        vertical-align: top;\n",
       "    }\n",
       "\n",
       "    .dataframe thead th {\n",
       "        text-align: right;\n",
       "    }\n",
       "</style>\n",
       "<table border=\"1\" class=\"dataframe\">\n",
       "  <thead>\n",
       "    <tr style=\"text-align: right;\">\n",
       "      <th></th>\n",
       "      <th></th>\n",
       "      <th>Accident Index</th>\n",
       "    </tr>\n",
       "    <tr>\n",
       "      <th>severity</th>\n",
       "      <th>Casualties</th>\n",
       "      <th></th>\n",
       "    </tr>\n",
       "  </thead>\n",
       "  <tbody>\n",
       "    <tr>\n",
       "      <th rowspan=\"3\" valign=\"top\">fatal</th>\n",
       "      <th>Cyclist</th>\n",
       "      <td>9</td>\n",
       "    </tr>\n",
       "    <tr>\n",
       "      <th>Pedestrian</th>\n",
       "      <td>20</td>\n",
       "    </tr>\n",
       "    <tr>\n",
       "      <th>Pedestrian,Car occupant</th>\n",
       "      <td>1</td>\n",
       "    </tr>\n",
       "    <tr>\n",
       "      <th rowspan=\"11\" valign=\"top\">serious</th>\n",
       "      <th>Cyclist</th>\n",
       "      <td>453</td>\n",
       "    </tr>\n",
       "    <tr>\n",
       "      <th>Cyclist,Bus/coach/minibus occupant</th>\n",
       "      <td>4</td>\n",
       "    </tr>\n",
       "    <tr>\n",
       "      <th>Cyclist,Car occupant</th>\n",
       "      <td>1</td>\n",
       "    </tr>\n",
       "    <tr>\n",
       "      <th>Cyclist,Car occupant,Other</th>\n",
       "      <td>1</td>\n",
       "    </tr>\n",
       "    <tr>\n",
       "      <th>Cyclist,Motorcycle rider/passenger</th>\n",
       "      <td>2</td>\n",
       "    </tr>\n",
       "    <tr>\n",
       "      <th>Cyclist,Taxi occupant</th>\n",
       "      <td>1</td>\n",
       "    </tr>\n",
       "    <tr>\n",
       "      <th>Pedestrian</th>\n",
       "      <td>284</td>\n",
       "    </tr>\n",
       "    <tr>\n",
       "      <th>Pedestrian,Bus/coach/minibus occupant</th>\n",
       "      <td>5</td>\n",
       "    </tr>\n",
       "    <tr>\n",
       "      <th>Pedestrian,Car occupant</th>\n",
       "      <td>4</td>\n",
       "    </tr>\n",
       "    <tr>\n",
       "      <th>Pedestrian,Cyclist</th>\n",
       "      <td>9</td>\n",
       "    </tr>\n",
       "    <tr>\n",
       "      <th>Pedestrian,Motorcycle rider/passenger</th>\n",
       "      <td>3</td>\n",
       "    </tr>\n",
       "    <tr>\n",
       "      <th rowspan=\"12\" valign=\"top\">slight</th>\n",
       "      <th>Cyclist</th>\n",
       "      <td>2703</td>\n",
       "    </tr>\n",
       "    <tr>\n",
       "      <th>Cyclist,Bus/coach/minibus occupant</th>\n",
       "      <td>5</td>\n",
       "    </tr>\n",
       "    <tr>\n",
       "      <th>Cyclist,Car occupant</th>\n",
       "      <td>12</td>\n",
       "    </tr>\n",
       "    <tr>\n",
       "      <th>Cyclist,Goods vehicle occupant</th>\n",
       "      <td>1</td>\n",
       "    </tr>\n",
       "    <tr>\n",
       "      <th>Cyclist,Motorcycle rider/passenger</th>\n",
       "      <td>5</td>\n",
       "    </tr>\n",
       "    <tr>\n",
       "      <th>Cyclist,Taxi occupant</th>\n",
       "      <td>1</td>\n",
       "    </tr>\n",
       "    <tr>\n",
       "      <th>Pedestrian</th>\n",
       "      <td>1036</td>\n",
       "    </tr>\n",
       "    <tr>\n",
       "      <th>Pedestrian,Bus/coach/minibus occupant</th>\n",
       "      <td>7</td>\n",
       "    </tr>\n",
       "    <tr>\n",
       "      <th>Pedestrian,Car occupant</th>\n",
       "      <td>8</td>\n",
       "    </tr>\n",
       "    <tr>\n",
       "      <th>Pedestrian,Cyclist</th>\n",
       "      <td>13</td>\n",
       "    </tr>\n",
       "    <tr>\n",
       "      <th>Pedestrian,Motorcycle rider/passenger</th>\n",
       "      <td>10</td>\n",
       "    </tr>\n",
       "    <tr>\n",
       "      <th>Pedestrian,Taxi occupant</th>\n",
       "      <td>1</td>\n",
       "    </tr>\n",
       "  </tbody>\n",
       "</table>\n",
       "</div>"
      ],
      "text/plain": [
       "                                                Accident Index\n",
       "severity Casualties                                           \n",
       "fatal    Cyclist                                             9\n",
       "         Pedestrian                                         20\n",
       "         Pedestrian,Car occupant                             1\n",
       "serious  Cyclist                                           453\n",
       "         Cyclist,Bus/coach/minibus occupant                  4\n",
       "         Cyclist,Car occupant                                1\n",
       "         Cyclist,Car occupant,Other                          1\n",
       "         Cyclist,Motorcycle rider/passenger                  2\n",
       "         Cyclist,Taxi occupant                               1\n",
       "         Pedestrian                                        284\n",
       "         Pedestrian,Bus/coach/minibus occupant               5\n",
       "         Pedestrian,Car occupant                             4\n",
       "         Pedestrian,Cyclist                                  9\n",
       "         Pedestrian,Motorcycle rider/passenger               3\n",
       "slight   Cyclist                                          2703\n",
       "         Cyclist,Bus/coach/minibus occupant                  5\n",
       "         Cyclist,Car occupant                               12\n",
       "         Cyclist,Goods vehicle occupant                      1\n",
       "         Cyclist,Motorcycle rider/passenger                  5\n",
       "         Cyclist,Taxi occupant                               1\n",
       "         Pedestrian                                       1036\n",
       "         Pedestrian,Bus/coach/minibus occupant               7\n",
       "         Pedestrian,Car occupant                             8\n",
       "         Pedestrian,Cyclist                                 13\n",
       "         Pedestrian,Motorcycle rider/passenger              10\n",
       "         Pedestrian,Taxi occupant                            1"
      ]
     },
     "execution_count": 15,
     "metadata": {},
     "output_type": "execute_result"
    }
   ],
   "source": [
    "# Get simple stats by severity and type of casualty \n",
    "df[['Accident Index', 'severity', 'Casualties']].groupby(['severity', 'Casualties']).count()"
   ]
  },
  {
   "cell_type": "code",
   "execution_count": 91,
   "metadata": {},
   "outputs": [],
   "source": [
    "counts = df[['Accident Index', 'severity', 'Casualties']].groupby(['severity', 'Casualties'])"
   ]
  },
  {
   "cell_type": "code",
   "execution_count": 93,
   "metadata": {},
   "outputs": [
    {
     "data": {
      "text/html": [
       "<div>\n",
       "<style scoped>\n",
       "    .dataframe tbody tr th:only-of-type {\n",
       "        vertical-align: middle;\n",
       "    }\n",
       "\n",
       "    .dataframe tbody tr th {\n",
       "        vertical-align: top;\n",
       "    }\n",
       "\n",
       "    .dataframe thead th {\n",
       "        text-align: right;\n",
       "    }\n",
       "</style>\n",
       "<table border=\"1\" class=\"dataframe\">\n",
       "  <thead>\n",
       "    <tr style=\"text-align: right;\">\n",
       "      <th></th>\n",
       "      <th>Accident Index</th>\n",
       "      <th>Timestamp</th>\n",
       "      <th>severity</th>\n",
       "      <th>Casualties</th>\n",
       "      <th>Number of Casualties</th>\n",
       "      <th>Number of Vehicles</th>\n",
       "      <th>url</th>\n",
       "      <th>apiUrl</th>\n",
       "      <th>Latitude</th>\n",
       "      <th>Longitude</th>\n",
       "    </tr>\n",
       "  </thead>\n",
       "  <tbody>\n",
       "    <tr>\n",
       "      <th>1234</th>\n",
       "      <td>201143P273061</td>\n",
       "      <td>1:48am, 25th June 2011</td>\n",
       "      <td>fatal</td>\n",
       "      <td>Pedestrian,Car occupant</td>\n",
       "      <td>3</td>\n",
       "      <td>1</td>\n",
       "      <td>https://www.cyclestreets.net/collisions/report...</td>\n",
       "      <td>https://api.cyclestreets.net/v2/collisions.loc...</td>\n",
       "      <td>51.728645</td>\n",
       "      <td>-1.259361</td>\n",
       "    </tr>\n",
       "  </tbody>\n",
       "</table>\n",
       "</div>"
      ],
      "text/plain": [
       "     Accident Index               Timestamp severity               Casualties  \\\n",
       "1234  201143P273061  1:48am, 25th June 2011    fatal  Pedestrian,Car occupant   \n",
       "\n",
       "      Number of Casualties  Number of Vehicles  \\\n",
       "1234                     3                   1   \n",
       "\n",
       "                                                    url  \\\n",
       "1234  https://www.cyclestreets.net/collisions/report...   \n",
       "\n",
       "                                                 apiUrl   Latitude  Longitude  \n",
       "1234  https://api.cyclestreets.net/v2/collisions.loc...  51.728645  -1.259361  "
      ]
     },
     "execution_count": 93,
     "metadata": {},
     "output_type": "execute_result"
    }
   ],
   "source": [
    "df.loc[(df['Casualties'] == 'Pedestrian,Car occupant') & (df['severity'] == 'fatal')]"
   ]
  },
  {
   "cell_type": "code",
   "execution_count": 94,
   "metadata": {},
   "outputs": [],
   "source": [
    "casualty_types = df['Casualties'].unique()\n",
    "casualty_types_cyclist = [x for x in casualty_types if 'Cyclist' in x]\n",
    "casualty_types_cyclist.remove('Pedestrian,Cyclist')  # assume more serious for pedestrian here\n",
    "casualty_types_pedestrian = [x for x in casualty_types if 'Pedestrian' in x]"
   ]
  },
  {
   "cell_type": "code",
   "execution_count": 96,
   "metadata": {},
   "outputs": [
    {
     "data": {
      "text/plain": [
       "['Cyclist',\n",
       " 'Cyclist,Motorcycle rider/passenger',\n",
       " 'Cyclist,Car occupant',\n",
       " 'Cyclist,Bus/coach/minibus occupant',\n",
       " 'Cyclist,Taxi occupant',\n",
       " 'Cyclist,Car occupant,Other',\n",
       " 'Cyclist,Goods vehicle occupant']"
      ]
     },
     "execution_count": 96,
     "metadata": {},
     "output_type": "execute_result"
    }
   ],
   "source": [
    "casualty_types_cyclist"
   ]
  },
  {
   "cell_type": "code",
   "execution_count": 65,
   "metadata": {},
   "outputs": [
    {
     "data": {
      "text/plain": [
       "['Pedestrian',\n",
       " 'Pedestrian,Cyclist',\n",
       " 'Pedestrian,Bus/coach/minibus occupant',\n",
       " 'Pedestrian,Motorcycle rider/passenger',\n",
       " 'Pedestrian,Car occupant',\n",
       " 'Pedestrian,Taxi occupant']"
      ]
     },
     "execution_count": 65,
     "metadata": {},
     "output_type": "execute_result"
    }
   ],
   "source": [
    "casualty_types_pedestrian"
   ]
  },
  {
   "cell_type": "code",
   "execution_count": 97,
   "metadata": {},
   "outputs": [],
   "source": [
    "counts = df[['Accident Index', 'severity', 'Casualties']].groupby(['severity', 'Casualties'])"
   ]
  },
  {
   "cell_type": "code",
   "execution_count": 98,
   "metadata": {},
   "outputs": [],
   "source": [
    "def map_none_to_zero(x):\n",
    "    if x is None:\n",
    "        return 0\n",
    "    else:\n",
    "        return len(x)"
   ]
  },
  {
   "cell_type": "code",
   "execution_count": 99,
   "metadata": {},
   "outputs": [],
   "source": [
    "def get_info_from_counts(counts, tuple):\n",
    "    try: \n",
    "        return map_none_to_zero(counts.get_group(tuple))\n",
    "    except KeyError:\n",
    "        return 0"
   ]
  },
  {
   "cell_type": "code",
   "execution_count": 100,
   "metadata": {},
   "outputs": [
    {
     "data": {
      "text/plain": [
       "21"
      ]
     },
     "execution_count": 100,
     "metadata": {},
     "output_type": "execute_result"
    }
   ],
   "source": [
    "sum(get_info_from_counts(counts, ('fatal', c)) for c in casualty_types_pedestrian)"
   ]
  },
  {
   "cell_type": "code",
   "execution_count": 101,
   "metadata": {},
   "outputs": [],
   "source": [
    "# Hand cranking a bit of this as haven't quite worked out the API thing yet \n",
    "counts = df[['Accident Index', 'severity', 'Casualties']].groupby(['severity', 'Casualties'])\n",
    "\n",
    "casualty_counts = {\n",
    "    'fatal': {\n",
    "        'Pedestrian': sum(get_info_from_counts(counts, ('fatal', c)) for c in casualty_types_pedestrian),\n",
    "        'Cyclist': sum(get_info_from_counts(counts, ('fatal', c)) for c in casualty_types_cyclist),\n",
    "    },\n",
    "    'serious':{\n",
    "        'Pedestrian': sum(get_info_from_counts(counts, ('serious', c)) for c in casualty_types_pedestrian),\n",
    "        'Cyclist': sum(get_info_from_counts(counts, ('serious', c)) for c in casualty_types_cyclist),\n",
    "    },\n",
    "    'slight': {\n",
    "        'Pedestrian': sum(get_info_from_counts(counts, ('slight', c)) for c in [i for i in casualty_types_pedestrian if i != 'Pedestrian,Cyclist']),\n",
    "        'Cyclist': sum(get_info_from_counts(counts, ('slight', c)) for c in casualty_types_cyclist + ['Pedestrian,Cyclist']), \n",
    "    }\n",
    "}"
   ]
  },
  {
   "cell_type": "code",
   "execution_count": 115,
   "metadata": {},
   "outputs": [
    {
     "data": {
      "text/plain": [
       "4599"
      ]
     },
     "execution_count": 115,
     "metadata": {},
     "output_type": "execute_result"
    }
   ],
   "source": [
    "# Quick check\n",
    "total = 0\n",
    "for severity in casualty_counts:\n",
    "    for casualty_type in casualty_counts[severity]:\n",
    "        total += casualty_counts[severity][casualty_type]\n",
    "\n",
    "total"
   ]
  },
  {
   "cell_type": "code",
   "execution_count": 108,
   "metadata": {},
   "outputs": [
    {
     "data": {
      "text/plain": [
       "4599"
      ]
     },
     "execution_count": 108,
     "metadata": {},
     "output_type": "execute_result"
    }
   ],
   "source": [
    "len(df)"
   ]
  },
  {
   "cell_type": "code",
   "execution_count": 114,
   "metadata": {},
   "outputs": [
    {
     "name": "stdout",
     "output_type": "stream",
     "text": [
      "|            |   fatal |   serious |   slight |\n",
      "|:-----------|--------:|----------:|---------:|\n",
      "| Pedestrian |      21 |       305 |     1062 |\n",
      "| Cyclist    |       9 |       462 |     2740 |\n"
     ]
    }
   ],
   "source": [
    "df = pd.DataFrame(\n",
    "    data=casualty_counts\n",
    ")\n",
    "print(df.to_markdown())"
   ]
  }
 ],
 "metadata": {
  "kernelspec": {
   "display_name": "Python 3.9.2 64-bit ('data')",
   "language": "python",
   "name": "python3"
  },
  "language_info": {
   "codemirror_mode": {
    "name": "ipython",
    "version": 3
   },
   "file_extension": ".py",
   "mimetype": "text/x-python",
   "name": "python",
   "nbconvert_exporter": "python",
   "pygments_lexer": "ipython3",
   "version": "3.9.2"
  },
  "orig_nbformat": 4,
  "vscode": {
   "interpreter": {
    "hash": "6a56c75b507d1594a34f62798fb30333a6f010a9f7b5e7045f66f21903816d1e"
   }
  }
 },
 "nbformat": 4,
 "nbformat_minor": 2
}
